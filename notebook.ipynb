{
 "cells": [
  {
   "cell_type": "markdown",
   "source": [
    "# Building sharp regression models with K-Means Clustering + SVR"
   ],
   "metadata": {}
  },
  {
   "cell_type": "code",
   "execution_count": null,
   "source": [
    "import seaborn as sns\n",
    "from sklearn.svm import SVC \n",
    "import matplotlib.pyplot as plt\n",
    "import numpy as np\n",
    "\n",
    "from sklearn.svm import SVR # for building support vector regression model\n",
    "import plotly.graph_objects as go # for data visualization\n",
    "import plotly.express as px # for data visualization\n",
    "\n",
    "from sklearn.model_selection import train_test_split\n",
    "from sklearn.cluster import KMeans\n",
    "from sklearn.metrics import silhouette_score\n",
    "import statistics\n",
    "from scipy import stats\n"
   ],
   "outputs": [],
   "metadata": {}
  },
  {
   "cell_type": "markdown",
   "source": [
    "## Setting up"
   ],
   "metadata": {}
  },
  {
   "cell_type": "code",
   "execution_count": null,
   "source": [
    "# Creating dataframe to work on\n",
    "iris = sns.load_dataset(\"iris\")\n",
    "y = iris.species\n",
    "X = iris.drop('species',axis=1)\n",
    "df=iris[(iris['species']!='versicolor')]\n",
    "df=df.drop(['sepal_length','sepal_width'], axis=1)\n",
    "\n",
    "# Converting categorical vlaues to numericals\n",
    "df=df.replace('setosa', 0)\n",
    "df=df.replace('virginica', 1)\n",
    "\n",
    "# Defining features and targer\n",
    "X=df.iloc[:,0:2]\n",
    "y=df['species']"
   ],
   "outputs": [],
   "metadata": {}
  },
  {
   "cell_type": "markdown",
   "source": [
    "## Support Vector Machine"
   ],
   "metadata": {}
  },
  {
   "cell_type": "code",
   "execution_count": null,
   "source": [
    "# Building SVM Model using sklearn\n",
    "model = SVC(kernel='linear', C=1E10)\n",
    "model.fit(X, y)"
   ],
   "outputs": [],
   "metadata": {}
  },
  {
   "cell_type": "code",
   "execution_count": null,
   "source": [
    "# plotting the hyperplane created and the data points' distribution\n",
    "ax = plt.gca()\n",
    "plt.scatter(X.iloc[:, 0], X.iloc[:, 1], c=y, s=50, cmap='spring')\n",
    "ax.set(xlabel = \"Petal Length\",\n",
    "       ylabel = \"Petal Width\")\n",
    "xlim = ax.get_xlim()\n",
    "ylim = ax.get_ylim()\n",
    "\n",
    "xx = np.linspace(xlim[0], xlim[1], 30)\n",
    "yy = np.linspace(ylim[0], ylim[1], 30)\n",
    "YY, XX = np.meshgrid(yy, xx)\n",
    "xy = np.vstack([XX.ravel(), YY.ravel()]).T\n",
    "Z = model.decision_function(xy).reshape(XX.shape)\n",
    "\n",
    "ax.contour(XX, YY, Z, colors='k', levels=[-1, 0, 1], alpha=0.5,\n",
    "           linestyles=['--', '-', '--'])\n",
    "\n",
    "ax.scatter(model.support_vectors_[:, 0], model.support_vectors_[:, 1], s=100,\n",
    "           linewidth=1, facecolors='none', edgecolors='k')\n",
    "plt.show()"
   ],
   "outputs": [],
   "metadata": {}
  },
  {
   "cell_type": "markdown",
   "source": [
    "## Support Vector Regression"
   ],
   "metadata": {}
  },
  {
   "cell_type": "code",
   "execution_count": null,
   "source": [
    "# Read data into a dataframe\n",
    "df = pd.read_csv('Real estate.csv', encoding='utf-8')\n",
    "X=df['X2 house age'].values.reshape(-1,1)\n",
    "y=df['Y house price of unit area'].values\n",
    "\n",
    "# Building SVR Model\n",
    "model = SVR(kernel='rbf', C=1000, epsilon=1) # set kernel and hyperparameters\n",
    "svr = model.fit(X, y)\n"
   ],
   "outputs": [],
   "metadata": {}
  },
  {
   "cell_type": "code",
   "execution_count": null,
   "source": [
    "x_range = np.linspace(X.min(), X.max(), 100)\n",
    "y_svr = model.predict(x_range.reshape(-1, 1))\n",
    "\n",
    "plt = px.scatter(df, x=df['X2 house age'], y=df['Y house price of unit area'], \n",
    "                 opacity=0.8, color_discrete_sequence=['black'])\n",
    "\n",
    "# Add SVR Hyperplane\n",
    "plt.add_traces(go.Scatter(x=x_range,\n",
    "\ty=y_svr, name='Support Vector Regression', line=dict(color='blue')))\n",
    "plt.add_traces(go.Scatter(x=x_range,\n",
    "\ty=y_svr+10, name='+epsilon', line=dict(color='blue', dash='dot')))\n",
    "plt.add_traces(go.Scatter(x=x_range,\n",
    "\ty=y_svr-10, name='-epsilon', line=dict(color='blue', dash='dot')))\n",
    "\n",
    "# Set chart background color\n",
    "plt.update_layout(dict(plot_bgcolor = 'white'))\n",
    "\n",
    "# Updating axes lines\n",
    "plt.update_xaxes(showgrid=True, gridwidth=1, gridcolor='lightgrey', \n",
    "                 zeroline=True, zerolinewidth=1, zerolinecolor='lightgrey', \n",
    "                 showline=True, linewidth=1, linecolor='black')\n",
    "\n",
    "plt.update_yaxes(showgrid=True, gridwidth=1, gridcolor='lightgrey', \n",
    "                 zeroline=True, zerolinewidth=1, zerolinecolor='lightgrey', \n",
    "                 showline=True, linewidth=1, linecolor='black')\n",
    "\n",
    "# Update marker size\n",
    "plt.update_traces(marker=dict(size=3))\n",
    "\n",
    "plt.show()"
   ],
   "outputs": [],
   "metadata": {}
  },
  {
   "cell_type": "code",
   "execution_count": null,
   "source": [
    "# Read data into a dataframe again\n",
    "df = pd.read_csv('Real estate.csv', encoding='utf-8')\n",
    "\n",
    "# Defining Dependent and Independant variable\n",
    "X = np.array(df[['X3 distance to the nearest MRT station','X2 house age']])\n",
    "Y = df['Y house price of unit area'].values\n",
    "\n",
    "# Plotting the Clusters using matplotlib\n",
    "plt.rcParams['figure.figsize'] = [14, 7]\n",
    "plt.rc('font', size=14)\n",
    "\n",
    "plt.scatter(df['X3 distance to the nearest MRT station'],df['X2 house age'],label=\"cluster \"+ str(i+1))\n",
    "plt.xlabel(\"X3 distance to the nearest MRT station\")\n",
    "plt.ylabel(\"X2 house age\")\n",
    "plt.legend()\n",
    "plt.show()"
   ],
   "outputs": [],
   "metadata": {}
  },
  {
   "cell_type": "markdown",
   "source": [
    "## K-Means"
   ],
   "metadata": {}
  },
  {
   "cell_type": "code",
   "execution_count": null,
   "source": [
    "# K-Means\n",
    "X_train, X_test, Y_train, Y_test = train_test_split(\n",
    " X, Y, test_size=0.30, random_state=42)\n",
    "\n",
    "silhouette_coefficients = []\n",
    "\n",
    "kmeans_kwargs= {\n",
    "    \"init\":\"random\",\n",
    "    \"n_init\":10,\n",
    "    \"max_iter\":300,\n",
    "    \"random_state\":42\n",
    "}\n",
    "\n",
    "for k in range(2, 11):\n",
    "    kmeans = KMeans(n_clusters=k, **kmeans_kwargs)\n",
    "    kmeans.fit(X_train)\n",
    "    score = silhouette_score(X_train, kmeans.labels_)\n",
    "    silhouette_coefficients.append(score)\n",
    "    \n",
    "# Plotting graph to choose the best number of clusters\n",
    "# with the most Silhouette Coefficient score\n",
    "\n",
    "import matplotlib.pyplot as plt\n",
    "\n",
    "plt.style.use(\"fivethirtyeight\")\n",
    "plt.plot(range(2, 11), silhouette_coefficients)\n",
    "plt.xticks(range(2, 11))\n",
    "plt.xlabel(\"Number of Clusters\")\n",
    "plt.ylabel(\"Silhouette Coefficient\")\n",
    "plt.show()"
   ],
   "outputs": [],
   "metadata": {}
  },
  {
   "cell_type": "code",
   "execution_count": null,
   "source": [
    "# Instantiate the model: KMeans from sklearn\n",
    "kmeans = KMeans(\n",
    "    init=\"random\",\n",
    "    n_clusters=3,\n",
    "    n_init=10,\n",
    "    max_iter=300,\n",
    "    random_state=42\n",
    ")\n",
    "\n",
    "# Fit to the training data\n",
    "kmeans.fit(X_train)\n",
    "\n",
    "train_df = pd.DataFrame(X_train,columns=['X3 distance to the nearest MRT station','X2 house age'])\n",
    "\n",
    "# Generate out clusters\n",
    "train_cluster = kmeans.predict(X_train)\n",
    "\n",
    "# Add the target and predicted clusters to our training DataFrame\n",
    "train_df.insert(2,'Y house price of unit area',Y_train) \n",
    "train_df.insert(3,'cluster',train_cluster) \n",
    "n_clusters=3\n",
    "train_clusters_df = []\n",
    "for i in range(n_clusters):\n",
    "    train_clusters_df.append(train_df[train_df['cluster']==i])\n",
    "    \n",
    "colors = ['red','green','blue']\n",
    "plt.rcParams['figure.figsize'] = [14, 7]\n",
    "plt.rc('font', size=12)\n",
    "\n",
    "# Plot X_train again with features labeled by cluster\n",
    "for i in range(n_clusters):\n",
    "  subset = []\n",
    "  for count,row in enumerate(X_train):\n",
    "      if(train_cluster[count]==i):\n",
    "        subset.append(row)\n",
    "\n",
    "  x = [row[0] for row in subset]\n",
    "  y = [row[1] for row in subset]\n",
    "  plt.scatter(x,y,c=colors[i],label=\"cluster \"+ str(i+1))\n",
    "plt.title(\"Train Data Clusters\", x=0.6, y=0.95)\n",
    "plt.xlabel(\"X3 distance to the nearest MRT station\")\n",
    "plt.ylabel(\"X2 house age\")\n",
    "plt.legend()\n",
    "plt.show()"
   ],
   "outputs": [],
   "metadata": {}
  },
  {
   "cell_type": "markdown",
   "source": [
    "## Putting it all together: K-Means + SVR"
   ],
   "metadata": {}
  },
  {
   "cell_type": "code",
   "execution_count": null,
   "source": [
    "n_clusters=3\n",
    "cluster_svr = []\n",
    "model = SVR(kernel='rbf', C=1000, epsilon=1)\n",
    "\n",
    "for i in range(n_clusters):\n",
    "    cluster_X = np.array((train_clusters_df[i])[['X3 distance to the nearest MRT station','X2 house age']])\n",
    "    cluster_Y = (train_clusters_df[i])['Y house price of unit area'].values\n",
    "    cluster_svr.append(model.fit(cluster_X, cluster_Y))"
   ],
   "outputs": [],
   "metadata": {}
  },
  {
   "cell_type": "code",
   "execution_count": null,
   "source": [
    "def regression_function(arr, kmeans, cluster_svr):\n",
    "    result = []\n",
    "    clusters_pred = kmeans.predict(arr)\n",
    "    for i,data in enumerate(arr):\n",
    "        result.append(((cluster_svr[clusters_pred[i]]).predict([data]))[0])\n",
    "    return result,clusters"
   ],
   "outputs": [],
   "metadata": {}
  },
  {
   "cell_type": "code",
   "execution_count": null,
   "source": [
    "# calculating Y value and cluster\n",
    "Y_svr_k_means_pred, Y_clusters = regression_function(X_test,\n",
    "\tkmeans, cluster_svr)\n",
    "    \n",
    "colors = ['red','green','blue']\n",
    "plt.rcParams['figure.figsize'] = [14, 7]\n",
    "plt.rc('font', size=12)\n",
    "\n",
    "n_clusters=3\n",
    "\n",
    "# Apply our model to clustering the remaining test set for validation\n",
    "\n",
    "for i in range(n_clusters):\n",
    "  subset = []\n",
    "  for count,row in enumerate(X_test):\n",
    "      if(Y_clusters[count]==i):\n",
    "        subset.append(row)\n",
    "\n",
    "  x = [row[0] for row in subset]\n",
    "  y = [row[1] for row in subset]\n",
    "  plt.scatter(x,y,c=colors[i],label=\"cluster \"+ str(i+1))\n",
    "plt.title(\"Test Data Clusters\", x=0.6, y=0.95)\n",
    "plt.xlabel(\"X3 distance to the nearest MRT station\")\n",
    "plt.ylabel(\"X2 house age\")\n",
    "plt.legend()\n",
    "plt.show()\n"
   ],
   "outputs": [],
   "metadata": {}
  },
  {
   "cell_type": "code",
   "execution_count": null,
   "source": [
    "result_df = pd.DataFrame(X_test,columns=['X3 distance to the nearest MRT station','X2 house age'])\n",
    "result_df['Y true value'] =  Y_test\n",
    "result_df['Y SVR + K means'] = Y_svr_k_means_pred\n",
    "result_df['cluster'] = Y_clusters\n",
    "result_df.head()"
   ],
   "outputs": [],
   "metadata": {}
  }
 ],
 "metadata": {
  "orig_nbformat": 4,
  "language_info": {
   "name": "plaintext"
  }
 },
 "nbformat": 4,
 "nbformat_minor": 2
}